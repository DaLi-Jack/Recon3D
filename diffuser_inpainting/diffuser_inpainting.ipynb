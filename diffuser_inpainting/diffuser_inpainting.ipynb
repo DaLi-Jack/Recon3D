{
 "cells": [
  {
   "cell_type": "code",
   "execution_count": null,
   "metadata": {},
   "outputs": [],
   "source": [
    "from diffusers import StableDiffusionInpaintPipeline\n",
    "import torch\n",
    "from PIL import Image\n",
    "import numpy as np\n",
    "\n",
    "pipe = StableDiffusionInpaintPipeline.from_pretrained(\n",
    "    \"runwayml/stable-diffusion-inpainting\",\n",
    "    revision=\"fp16\",\n",
    "    torch_dtype=torch.float16,\n",
    ")\n",
    "pipe.to(\"cuda\")"
   ]
  },
  {
   "cell_type": "code",
   "execution_count": null,
   "metadata": {},
   "outputs": [],
   "source": [
    "def gray2rgb(gray):\n",
    "    rgb = np.zeros((gray.shape[0], gray.shape[1], 3), dtype=np.uint8)\n",
    "    rgb[:, :, 0] = gray\n",
    "    rgb[:, :, 1] = gray\n",
    "    rgb[:, :, 2] = gray\n",
    "\n",
    "    rgb_image = Image.fromarray(rgb)\n",
    "    return rgb_image\n",
    "\n",
    "def img_resize(img, size):\n",
    "    img = img.resize(size, Image.ANTIALIAS)\n",
    "    return img\n"
   ]
  },
  {
   "cell_type": "code",
   "execution_count": null,
   "metadata": {},
   "outputs": [],
   "source": [
    "prompt = \"a black solid vaccum bottle with bottom\"\n",
    "# prompt = 'a sitting bear'\n",
    "# prompt = 'a wooden chair with a curved back and armrests. It has a dark brown finish and is upholstered in a light beige fabric.'\n",
    "# prompt = 'a wooden green armchair'\n",
    "# prompt = 'a green chair with a black seat, located in a dining room with a large table and chairs.'\n",
    "#image and mask_image should be PIL images.\n",
    "#The mask structure is white for inpainting and black for keeping as is\n",
    "image = Image.open(\"./test_image/real_world_box.jpg\")\n",
    "image = img_resize(image, (512, 512))\n",
    "mask_image = Image.open(\"./test_image/real_world_box_diffuser.jpg\")\n",
    "# mask_image = gray2rgb(np.array(mask_image))\n",
    "mask_image = img_resize(mask_image, (512, 512))\n",
    "image = pipe(prompt=prompt, image=image, mask_image=mask_image).images[0]\n",
    "# image = pipe(image=image, mask_image=mask_image).images[0]\n",
    "image.save(\"./test_image/bottle.jpeg\")"
   ]
  }
 ],
 "metadata": {
  "kernelspec": {
   "display_name": "Python 3.9.16 ('recon')",
   "language": "python",
   "name": "python3"
  },
  "language_info": {
   "codemirror_mode": {
    "name": "ipython",
    "version": 3
   },
   "file_extension": ".py",
   "mimetype": "text/x-python",
   "name": "python",
   "nbconvert_exporter": "python",
   "pygments_lexer": "ipython3",
   "version": "3.9.16"
  },
  "orig_nbformat": 4,
  "vscode": {
   "interpreter": {
    "hash": "904961b907cc179843f882fdddb3a450768ecca46d984b294d0ce9138a581b86"
   }
  }
 },
 "nbformat": 4,
 "nbformat_minor": 2
}
